{
 "cells": [
  {
   "cell_type": "code",
   "execution_count": 1,
   "id": "bf61c710",
   "metadata": {},
   "outputs": [],
   "source": [
    "import sys\n",
    "sys.path.append('../FaaSterConfig')\n",
    "import subprocess\n",
    "import time\n",
    "import os\n",
    "import select\n",
    "import datetime\n",
    "import re\n",
    "\n",
    "import FaaSterConfig\n",
    "sys.argv = ['./FaaSterConfig.py', '../openFaas/matmul.yml', \"-c\", '1', '6', '12', \"-nt\", \"NoGPU\"]"
   ]
  },
  {
   "cell_type": "code",
   "execution_count": 2,
   "id": "57bf426a",
   "metadata": {
    "scrolled": true
   },
   "outputs": [
    {
     "name": "stderr",
     "output_type": "stream",
     "text": [
      "/Users/cameron.keenan/.pyenv/versions/FaaSterConfig/lib/python3.11/site-packages/doepy/doe_functions.py:22: FutureWarning: Setting an item of incompatible dtype is deprecated and will raise in a future error of pandas. Value 'NoGPU' has dtype incompatible with float32, please explicitly cast to a compatible dtype first.\n",
      "  df.iloc[i][j]=r[j][int(df.iloc[i][j])]\n"
     ]
    }
   ],
   "source": [
    "args, doe, stack = FaaSterConfig.main()"
   ]
  },
  {
   "cell_type": "code",
   "execution_count": 65,
   "id": "ecb91e5a",
   "metadata": {},
   "outputs": [],
   "source": [
    "\n",
    "def read_line_with_timeout(pipe, timeout):\n",
    "    rlist, _, _ = select.select([pipe], [], [], timeout)\n",
    "    if rlist:\n",
    "        return pipe.readline()\n",
    "    else:\n",
    "        return None\n",
    "\n",
    "def run_function(funcName, data=\"100\", stackYml=None, port=4500, MAXBUF=120, verbose=False):\n",
    "    if not stackYml: \n",
    "        # Assume stack.yml file is same name as function\n",
    "        stackYml = f\"../openFaas/{funcName}.yml\"\n",
    "\n",
    "    logFile = f\"/tmp/openFaas/{funcName}.log\"\n",
    "    os.makedirs(os.path.dirname(logFile), exist_ok=True)\n",
    "\n",
    "    cmd = f\"cd {os.path.dirname(stackYml)}; faas-cli local-run {funcName} -f {stackYml} -p {port} --quiet 2>&1 | tee {logFile}\"\n",
    "    if verbose:\n",
    "        print(\"running command: \")\n",
    "        print(cmd)\n",
    "    process = subprocess.Popen(cmd, bufsize=MAXBUF, shell=True, stdout=subprocess.PIPE, stderr=subprocess.PIPE, text=True)\n",
    "\n",
    "    start = datetime.datetime.now()\n",
    "    duration = None\n",
    "#     while (datetime.datetime.now() - start).total_seconds() < 15:\n",
    "    for line in process.stdout:\n",
    "#     while True:\n",
    "#         line = read_line_with_timeout(process.stdout, .1)\n",
    "        if line:\n",
    "            if verbose:\n",
    "                print(line)\n",
    "            if re.search(\"Listening on port: 8080\", line):\n",
    "                # TODO use requests and send payload from input \n",
    "                os.system(f\"curl http://0.0.0.0:{port} -X POST  --data '{data}' >/dev/null 2>&1\")\n",
    "            elif (match:= re.search(\"Duration: ((?:\\d|.)+)s\", line)):\n",
    "                duration = float(match.groups()[0])\n",
    "                break\n",
    "                \n",
    "    if not process.poll():\n",
    "        process.kill()\n",
    "    # Ensure all subprocesses are killed for this function\n",
    "    os.system(\"\"\"kill -9 $(ps -ef | grep -e \"faas-cli local-run %s\" -e \"docker run --name %s\" -e \"run.*%s\" | awk '{print $2}')\"\"\" % (funcName,funcName,funcName))\n",
    "\n",
    "    return duration"
   ]
  },
  {
   "cell_type": "code",
   "execution_count": 66,
   "id": "9ad417e0",
   "metadata": {
    "scrolled": false
   },
   "outputs": [],
   "source": [
    "# duration = run_function(doe.iloc[0].funcName, \"../openFaas/stack.yml\", port=4501, verbose=True)\n",
    "# print(f\"result: {duration}\")"
   ]
  },
  {
   "cell_type": "code",
   "execution_count": 67,
   "id": "0c9362fe",
   "metadata": {},
   "outputs": [],
   "source": [
    "def getTime(row):\n",
    "    return run_function(row.funcName, data=\"1000\", stackYml=\"../openFaas/matmul_gen.yml\", port=(4500+row.i), verbose=False)\n",
    "    \n",
    "doe = FaaSterConfig.applyThreaded(doe, getTime, max_workers=4)"
   ]
  },
  {
   "cell_type": "code",
   "execution_count": null,
   "id": "98041c57",
   "metadata": {},
   "outputs": [],
   "source": []
  }
 ],
 "metadata": {
  "kernelspec": {
   "display_name": "FaaSterConfig",
   "language": "python",
   "name": "faasterconfig"
  },
  "language_info": {
   "codemirror_mode": {
    "name": "ipython",
    "version": 3
   },
   "file_extension": ".py",
   "mimetype": "text/x-python",
   "name": "python",
   "nbconvert_exporter": "python",
   "pygments_lexer": "ipython3",
   "version": "3.11.5"
  }
 },
 "nbformat": 4,
 "nbformat_minor": 5
}
